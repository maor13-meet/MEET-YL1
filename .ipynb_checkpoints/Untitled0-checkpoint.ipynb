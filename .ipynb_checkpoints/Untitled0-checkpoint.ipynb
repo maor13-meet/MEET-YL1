{
 "metadata": {
  "name": ""
 },
 "nbformat": 3,
 "nbformat_minor": 0,
 "worksheets": [
  {
   "cells": [
    {
     "cell_type": "code",
     "collapsed": false,
     "input": [
      "import csv"
     ],
     "language": "python",
     "metadata": {},
     "outputs": [],
     "prompt_number": 1
    },
    {
     "cell_type": "code",
     "collapsed": false,
     "input": [
      "import csv\n",
      "f = open('motor_vehicles.csv', 'rb')\n",
      "reader = csv.reader(f)\n",
      "rownum = 0\n",
      "countries = []\n",
      "carsperyear = []\n",
      "years = []\n",
      "for row in reader:\n",
      "    if(rownum == 0):\n",
      "        row[0] = row[0].replace(\"\\xef\\xbb\\xbf\", \"\")\n",
      "        counter = 0\n",
      "        for r in row:\n",
      "            if counter>4:\n",
      "                years.append(r)\n",
      "            counter+=1\n",
      "    countries.append(row[0])\n",
      "\n",
      "    carsperyear.append(row[5:])\n",
      "    \n",
      "    rownum+=1\n",
      "\n",
      "f.close()\n",
      "\n",
      "\n",
      "from pylab import *\n",
      "\n",
      "\n",
      "us = []\n",
      "for x in carsperyear[90]:\n",
      "    if x:\n",
      "        us.append(x)\n",
      "\n",
      "us = map(int, us)\n",
      "years.pop()\n",
      "years = map(int, years)\n",
      "realyears = []\n",
      "print us\n",
      "c = 1\n",
      "for y in years:\n",
      "    if c > 44:\n",
      "        realyears.append(y)\n",
      "    c+=1\n",
      "print realyears\n",
      "\n",
      "fig = plt.figure()\n",
      "ax = fig.add_subplot(111)\n",
      "ax.set_title('Cars to year in USA!!!')\n",
      "ax.set_xlabel('Years')\n",
      "ax.set_ylabel('Cars')\n",
      "bar(realyears, us)\n",
      "\n",
      "        \n",
      "   "
     ],
     "language": "python",
     "metadata": {},
     "outputs": [
      {
       "output_type": "stream",
       "stream": "stdout",
       "text": [
        "[796, 810, 816, 818, 820, 815, 802, 797]\n",
        "[2006, 2007, 2008, 2009, 2010, 2011, 2012, 2013]\n"
       ]
      },
      {
       "metadata": {},
       "output_type": "pyout",
       "prompt_number": 125,
       "text": [
        "<Container object of 8 artists>"
       ]
      },
      {
       "metadata": {},
       "output_type": "display_data",
       "png": "[encoded data removed]",
       "text": [
        "<matplotlib.figure.Figure at 0xbc4b30c>"
       ]
      }
     ],
     "prompt_number": 125
    },
    {
     "cell_type": "code",
     "collapsed": false,
     "input": [],
     "language": "python",
     "metadata": {},
     "outputs": [],
     "prompt_number": 81
    },
    {
     "cell_type": "code",
     "collapsed": false,
     "input": [],
     "language": "python",
     "metadata": {},
     "outputs": [],
     "prompt_number": 25
    },
    {
     "cell_type": "code",
     "collapsed": false,
     "input": [],
     "language": "python",
     "metadata": {},
     "outputs": [],
     "prompt_number": 3
    },
    {
     "cell_type": "code",
     "collapsed": false,
     "input": [],
     "language": "python",
     "metadata": {},
     "outputs": []
    }
   ],
   "metadata": {}
  }
 ]
}